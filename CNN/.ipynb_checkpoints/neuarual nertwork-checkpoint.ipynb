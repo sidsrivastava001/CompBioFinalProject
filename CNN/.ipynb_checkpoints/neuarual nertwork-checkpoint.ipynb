{
 "cells": [
  {
   "cell_type": "code",
   "execution_count": 28,
   "id": "6383a71d",
   "metadata": {},
   "outputs": [],
   "source": [
    "import keras"
   ]
  },
  {
   "cell_type": "code",
   "execution_count": null,
   "id": "50d0da8c",
   "metadata": {},
   "outputs": [],
   "source": []
  },
  {
   "cell_type": "code",
   "execution_count": 29,
   "id": "5544298d",
   "metadata": {},
   "outputs": [],
   "source": [
    "from keras.layers import Conv2D, Dense, MaxPooling2D"
   ]
  },
  {
   "cell_type": "code",
   "execution_count": 46,
   "id": "4adcaa69",
   "metadata": {},
   "outputs": [],
   "source": [
    "def encode(seq):\n",
    "    n = len(seq)\n",
    "    l = [[0 for i in range(n)] for j in range(n)]\n",
    "    for i in range(n):\n",
    "        for j in range(n):\n",
    "            if((seq[i] == 'A' and seq[j] == 'U') or (seq[j] == 'A' and seq[i] == 'U')):\n",
    "                l[i][j] = 2\n",
    "            elif((seq[i] == 'G' and seq[j] == 'C') or (seq[j] == 'G' and seq[i] == 'C')):\n",
    "                l[i][j] = 3\n",
    "            elif((seq[i] == 'G' and seq[j] == 'U') or (seq[j] == 'U' and seq[i] == 'G')):\n",
    "                l[i][j] = 0.8\n",
    "            else:\n",
    "                l[i][j] = 0\n",
    "    return l"
   ]
  },
  {
   "cell_type": "code",
   "execution_count": 58,
   "id": "683ebc8e",
   "metadata": {},
   "outputs": [],
   "source": [
    "import numpy as np\n",
    "import math\n",
    "\n",
    "def Gaussian(x):\n",
    "    return math.exp(-0.5*(x*x))\n",
    "\n",
    "def matrix_calc(data):\n",
    "    mat = np.zeros([len(data)+,len(data)])\n",
    "    for i in range(len(data[0])):\n",
    "        for j in range(len(data[0])):\n",
    "            coefficient = 0\n",
    "            for add in range(30):\n",
    "                if i - add >= 0 and j + add <len(data):\n",
    "                    score = data[i-add][j+add]\n",
    "                    if score == 0:\n",
    "                        break\n",
    "                    else:\n",
    "                        coefficient = coefficient + score * Gaussian(add)\n",
    "                else:\n",
    "                    break\n",
    "            if coefficient > 0:\n",
    "                for add in range(1,30):\n",
    "                    if i + add < len(data) and j - add >= 0:\n",
    "                        score = data[i+add][j-add]\n",
    "                        if score == 0:\n",
    "                            break\n",
    "                        else:\n",
    "                            coefficient = coefficient + score * Gaussian(add)\n",
    "                    else:\n",
    "                        break\n",
    "            mat[[i],[j]] = coefficient\n",
    "    return mat\n",
    "\n",
    "def slidingWindow(numpy_M, sliding_param, n):\n",
    "    zeros = np.zeros((sliding_param, n), dtype=int)\n",
    "    numpy_M = np.append(numpy_M, zeros, axis=0)\n",
    "    sliding_mats = [numpy_M[i: i + sliding_param, :].tolist() for i in range(n)]\n",
    "    return sliding_mats"
   ]
  },
  {
   "cell_type": "code",
   "execution_count": 60,
   "id": "fd2c0c90",
   "metadata": {},
   "outputs": [
    {
     "name": "stdout",
     "output_type": "stream",
     "text": [
      "[[0.0, 0.0, 2.0, 0.0, 0.0, 0.0, 0.0, 2.0], [0.0, 0.0, 0.0, 3.0, 3.0, 3.0, 0.0, 0.0], [2.0, 0.0, 0.0, 0.0, 0.0, 0.0, 2.0, 0.0]]\n",
      "[[0.0, 0.0, 0.0, 3.0, 3.0, 3.0, 0.0, 0.0], [2.0, 0.0, 0.0, 0.0, 0.0, 0.0, 2.0, 0.0], [0.0, 3.0, 2.6195919791379003, 0.0, 0.0, 0.0, 0.0, 0.8]]\n",
      "[[2.0, 0.0, 0.0, 0.0, 0.0, 0.0, 2.0, 0.0], [0.0, 3.0, 2.6195919791379003, 0.0, 0.0, 0.0, 0.0, 0.8], [0.0, 3.485224527770107, 2.6195919791379003, 0.0, 0.0, 0.0, 0.0, 0.8]]\n",
      "[[0.0, 3.0, 2.6195919791379003, 0.0, 0.0, 0.0, 0.0, 0.8], [0.0, 3.485224527770107, 2.6195919791379003, 0.0, 0.0, 0.0, 0.0, 0.8], [0.0, 3.485224527770107, 0.8, 0.0, 0.0, 0.0, 0.0, 0.8]]\n",
      "[[0.0, 3.485224527770107, 2.6195919791379003, 0.0, 0.0, 0.0, 0.0, 0.8], [0.0, 3.485224527770107, 0.8, 0.0, 0.0, 0.0, 0.0, 0.8], [0.0, 0.0, 2.0, 0.0, 0.0, 0.0, 0.0, 3.213061319425267]]\n",
      "[[0.0, 3.485224527770107, 0.8, 0.0, 0.0, 0.0, 0.0, 0.8], [0.0, 0.0, 2.0, 0.0, 0.0, 0.0, 0.0, 3.213061319425267], [2.0, 0.0, 0.0, 0.0, 0.0, 0.0, 3.213061319425267, 0.0]]\n",
      "[[0.0, 0.0, 2.0, 0.0, 0.0, 0.0, 0.0, 3.213061319425267], [2.0, 0.0, 0.0, 0.0, 0.0, 0.0, 3.213061319425267, 0.0], [0.0, 0.0, 0.0, 0.0, 0.0, 0.0, 0.0, 0.0]]\n",
      "[[2.0, 0.0, 0.0, 0.0, 0.0, 0.0, 3.213061319425267, 0.0], [0.0, 0.0, 0.0, 0.0, 0.0, 0.0, 0.0, 0.0], [0.0, 0.0, 0.0, 0.0, 0.0, 0.0, 0.0, 0.0]]\n"
     ]
    }
   ],
   "source": []
  },
  {
   "cell_type": "code",
   "execution_count": 50,
   "id": "c4751427",
   "metadata": {},
   "outputs": [],
   "source": [
    "model = keras.Sequential()\n",
    "model.add(Conv2D(filters = 16, kernel_size = 3, input_shape=(19,  120, 1), activation='relu', padding='same'))\n",
    "model.add(MaxPooling2D(pool_size = (3, 3), padding='same'))\n",
    "model.add(Conv2D(filters = 16, kernel_size = 3, activation='relu', padding='same'))\n",
    "model.add(MaxPooling2D(pool_size = (3, 3), padding='same'))\n",
    "model.add(Conv2D(filters = 16, kernel_size = 3, activation='relu', padding='same'))\n",
    "model.add(MaxPooling2D(pool_size = (3, 3), padding='same'))\n",
    "\n",
    "model.add(Dense(32, activation='relu'))\n",
    "model.add(Dense(32, activation='relu'))"
   ]
  },
  {
   "cell_type": "code",
   "execution_count": 47,
   "id": "e500d2f3",
   "metadata": {},
   "outputs": [
    {
     "name": "stdout",
     "output_type": "stream",
     "text": [
      "[[0, 2, 2, 0, 2, 0, 0, 2, 2, 0, 0], [2, 0, 0, 0, 0, 2, 0, 0, 0, 0, 2], [2, 0, 0, 0, 0, 2, 0, 0, 0, 0, 2], [0, 0.8, 0.8, 0, 0.8, 0, 3, 0.8, 0.8, 0, 0], [2, 0, 0, 0, 0, 2, 0, 0, 0, 0, 2], [0, 2, 2, 0, 2, 0, 0, 2, 2, 0, 0], [0, 0, 0, 3, 0, 0, 0, 0, 0, 3, 0], [2, 0, 0, 0, 0, 2, 0, 0, 0, 0, 2], [2, 0, 0, 0, 0, 2, 0, 0, 0, 0, 2], [0, 0.8, 0.8, 0, 0.8, 0, 3, 0.8, 0.8, 0, 0], [0, 2, 2, 0, 2, 0, 0, 2, 2, 0, 0]]\n"
     ]
    }
   ],
   "source": []
  },
  {
   "cell_type": "code",
   "execution_count": null,
   "id": "85a0816a",
   "metadata": {},
   "outputs": [],
   "source": []
  },
  {
   "cell_type": "code",
   "execution_count": null,
   "id": "03d98fd3",
   "metadata": {},
   "outputs": [],
   "source": []
  }
 ],
 "metadata": {
  "kernelspec": {
   "display_name": "Python 3 (ipykernel)",
   "language": "python",
   "name": "python3"
  },
  "language_info": {
   "codemirror_mode": {
    "name": "ipython",
    "version": 3
   },
   "file_extension": ".py",
   "mimetype": "text/x-python",
   "name": "python",
   "nbconvert_exporter": "python",
   "pygments_lexer": "ipython3",
   "version": "3.9.13"
  }
 },
 "nbformat": 4,
 "nbformat_minor": 5
}
